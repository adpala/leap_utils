{
 "cells": [
  {
   "cell_type": "markdown",
   "metadata": {},
   "source": [
    "# Loading data\n",
    "Data (videos, tracks, poses) is organized in a specified folder structure on the lab volume. \n",
    "To simplify loading data, a config file describes where each type of data is found within this structure this. For instance, the movies are always in the `dat` or the `dat.processed` folder. Poses in `res`. Within each folder each experiment has a unique identifier composed of the name of the recording rig and the date nad time of the experiment. In addition, the config file also has information about how to load each file. More information on the structure of the config file and how to modify it [below](#Config-files).\n",
    "\n",
    "Currently supported types are `poses`, `tracks`, `video`. Planned: `timestamps`, `daq`."
   ]
  },
  {
   "cell_type": "markdown",
   "metadata": {},
   "source": [
    "## Usage\n",
    "The `DataLoader` uses all this information to load all described data types give this identifier:\n",
    "Initialize data loader - this will load the config file."
   ]
  },
  {
   "cell_type": "code",
   "execution_count": 1,
   "metadata": {},
   "outputs": [],
   "source": [
    "from leap_utils.io import DataLoader\n",
    "\n",
    "config_file = 'io.yaml'\n",
    "root_dir = '/Volumes/ukme04/#Common/chainingmic'  # this should point to the lab volume mount\n",
    "dl = DataLoader(config_file, root_dir)"
   ]
  },
  {
   "cell_type": "markdown",
   "metadata": {},
   "source": [
    "Specific data files from an experiment `expt_id` can be loaded using the `get` function:"
   ]
  },
  {
   "cell_type": "code",
   "execution_count": 6,
   "metadata": {},
   "outputs": [
    {
     "name": "stdout",
     "output_type": "stream",
     "text": [
      "/Volumes/ukme04/#Common/chainingmic/dat.processed/localhost-20180618_151056/localhost-20180618_151056.mp4\n",
      "dict_keys(['background', 'centers', 'centers_initial', 'chambers', 'chambers_bounding_box', 'frame_error', 'frame_error_codes', 'led', 'led_coords', 'led_mask', 'lines', 'file_name', 'frame_count', 'nchambers', 'nflies', 'nframes', 'start_frame', 'status', 'threshold'])\n",
      "dict_keys(['bad_boxes', 'confidence', 'fixed_angles', 'fly_frame', 'fly_id', 'frame_numbers', 'positions', 'expID', 'last_saved_batch'])\n"
     ]
    }
   ],
   "source": [
    "expt_id = 'localhost-20180618_151056'\n",
    "print(dl.path('video', expt_id))  # get constructe file name\n",
    "vr = dl.get('video', expt_id)  # returns a `Videoreader`\n",
    "tracks = dl.get('tracks', expt_id)  # returns a dict loaded via deepdish\n",
    "print(tracks.keys())\n",
    "poses = dl.get('poses', expt_id)  # same\n",
    "print(poses.keys())\n"
   ]
  },
  {
   "cell_type": "markdown",
   "metadata": {},
   "source": [
    "## Config files\n",
    "A config file consists of three sections: `root`, `types`, and `loaders`.\n",
    "`root` specifies the default root directory - can be overriden when creating the `DataLoader`.\n",
    "```yaml\n",
    "root: /Volumes/ukme04/#Common/chainingmic\n",
    "```\n",
    "\n",
    "### File types\n",
    "`types` defines all file types. Definitions contain \n",
    "- the base folder in the root directory, \n",
    "- the suffix. The file path is constructed from the folder and the suffix as `rootdir/folder/ID/IDsuffix`. This scheme cold easily be made another parameter.\n",
    "- a loader (any of the sections defined in `loaders`, see next paragraph). Optional but recommended - if missing, the loader is inferred from the suffix.\n",
    "\n",
    "```yaml\n",
    "types:\n",
    "    poses:\n",
    "      folder: res\n",
    "      suffix: _poses.h5\n",
    "      loader: hdf5\n",
    "    video:\n",
    "      folder: [dat, dat.processed]\n",
    "      suffix: .mp4\n",
    "      loader: video\n",
    "    tracks:\n",
    "      folder: res\n",
    "      suffix: [_tracks_fixed.h5, _tracks.h5]\n",
    "      loader: hdf5\n",
    "```\n",
    "\n",
    "### File loaders\n",
    "`loaders` defines how different file types are read. Definitions contain \n",
    "- `extensions`: Used to match file names with loaders if not explicitely specified in the types definition. Based on the filenames ending in any of the extensions.\n",
    "- `module`: automatically imported\n",
    "- `function`: function in `module` to use a loader (see next section).\n",
    "- `args`, `kwargs`: Optional arguments to be passed to the function. This information is used create a command for loading that looks like this: `module.function(filepath, *args, **kwargs).\n",
    "\n",
    "```yaml\n",
    "loaders:\n",
    "    hdf5:\n",
    "        extensions: [h5, hdf, hdf5]\n",
    "        module: deepdish\n",
    "        function: io.load\n",
    "    video:\n",
    "        extensions: [mp4, avi]\n",
    "        module: videoreader\n",
    "        function: VideoReader\n",
    "    npy:\n",
    "        extensions: [npy, npz]\n",
    "        module: numpy\n",
    "        function: load\n",
    "    csv:\n",
    "        extensions: [csv]\n",
    "        module: pandas\n",
    "        function: from_csv\n",
    "        # args: [arguments]\n",
    "        # kwargs: {Delimiter: \\t}\n",
    "```\n",
    "\n"
   ]
  }
 ],
 "metadata": {
  "kernel_info": {
   "name": "python3"
  },
  "kernelspec": {
   "display_name": "Python 3",
   "language": "python",
   "name": "python3"
  },
  "language_info": {
   "codemirror_mode": {
    "name": "ipython",
    "version": 3
   },
   "file_extension": ".py",
   "mimetype": "text/x-python",
   "name": "python",
   "nbconvert_exporter": "python",
   "pygments_lexer": "ipython3",
   "version": "3.6.7"
  },
  "nteract": {
   "version": "0.12.3"
  }
 },
 "nbformat": 4,
 "nbformat_minor": 2
}
