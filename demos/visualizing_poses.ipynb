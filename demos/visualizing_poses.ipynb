{
 "cells": [
  {
   "cell_type": "markdown",
   "metadata": {
    "slideshow": {
     "slide_type": "-"
    }
   },
   "source": [
    "# Visualizing poses\n",
    "intro blurb."
   ]
  },
  {
   "cell_type": "markdown",
   "metadata": {},
   "source": [
    "First load some data (see `loading_data.ipynb` for details)"
   ]
  },
  {
   "cell_type": "code",
   "execution_count": null,
   "metadata": {},
   "outputs": [],
   "source": [
    "from leap_utils.io import DataLoader\n",
    "\n",
    "config_file = 'io.yaml'\n",
    "root_dir = '.'  # this should point to the lab volume mount\n",
    "dl = DataLoader(config_file, root_dir)\n",
    "id = 'localhost_20180401_145201'\n",
    "vr = dl.get('video', datename)  # returns a `Videoreader`\n",
    "tracks = dl.get('tracks', datename)  # returns a dict loaded via deepdish\n",
    "poses = dl.get('poses', datename)  # same\n",
    "\n",
    "# get boxes and confmaps"
   ]
  },
  {
   "cell_type": "markdown",
   "metadata": {},
   "source": [
    "color_confmaps\n",
    "plot_boxes\n",
    "vlpay\n",
    "pose_dists\n",
    "animate stuff"
   ]
  },
  {
   "cell_type": "code",
   "execution_count": null,
   "metadata": {},
   "outputs": [],
   "source": []
  }
 ],
 "metadata": {
  "kernelspec": {
   "display_name": "Python 3",
   "language": "python",
   "name": "python3"
  },
  "language_info": {
   "codemirror_mode": {
    "name": "ipython",
    "version": 3
   },
   "file_extension": ".py",
   "mimetype": "text/x-python",
   "name": "python",
   "nbconvert_exporter": "python",
   "pygments_lexer": "ipython3",
   "version": "3.6.7"
  }
 },
 "nbformat": 4,
 "nbformat_minor": 2
}
